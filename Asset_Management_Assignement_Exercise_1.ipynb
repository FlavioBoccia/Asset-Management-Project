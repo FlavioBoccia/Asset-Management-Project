{
 "cells": [
  {
   "cell_type": "code",
   "execution_count": 1,
   "id": "06acf543",
   "metadata": {},
   "outputs": [],
   "source": [
    "import numpy as np\n",
    "import cvxpy as cp\n",
    "import matplotlib.pyplot as plt\n",
    "import seaborn as sns\n",
    "import pandas as pd\n",
    "import math\n",
    "from scipy.optimize import minimize\n",
    "from cvxopt import matrix, solvers\n",
    "solvers.options['show_progress'] = False\n"
   ]
  },
  {
   "cell_type": "code",
   "execution_count": 2,
   "id": "d16d3714",
   "metadata": {},
   "outputs": [],
   "source": [
    "betas=np.array([-0.3,0.3,0.7,1,1.5,2.5]).reshape(-1,1)\n",
    "sigmas_e=np.array([0.15,0.16,0.1,0.11,0.12,0.14]).reshape(-1,1)\n",
    "variance_e=sigmas_e*sigmas_e\n",
    "r=0.02\n",
    "sigma_m=0.2\n",
    "variance_m=sigma_m*sigma_m\n",
    "mu_m=0.08\n",
    "N=6"
   ]
  },
  {
   "cell_type": "markdown",
   "id": "7b128556",
   "metadata": {},
   "source": [
    "# Exercise 1"
   ]
  },
  {
   "cell_type": "markdown",
   "id": "0e4d5bd9",
   "metadata": {},
   "source": [
    "1.a"
   ]
  },
  {
   "cell_type": "code",
   "execution_count": 3,
   "id": "d3357164",
   "metadata": {},
   "outputs": [
    {
     "data": {
      "text/plain": [
       "array([[0.002],\n",
       "       [0.038],\n",
       "       [0.062],\n",
       "       [0.08 ],\n",
       "       [0.11 ],\n",
       "       [0.17 ]])"
      ]
     },
     "execution_count": 3,
     "metadata": {},
     "output_type": "execute_result"
    }
   ],
   "source": [
    "mus=r+betas*(mu_m-r)\n",
    "mus"
   ]
  },
  {
   "cell_type": "markdown",
   "id": "e850134d",
   "metadata": {},
   "source": [
    "1.b"
   ]
  },
  {
   "cell_type": "code",
   "execution_count": 4,
   "id": "a0d098a6",
   "metadata": {},
   "outputs": [
    {
     "data": {
      "text/plain": [
       "array([[ 0.0261, -0.0036, -0.0084, -0.012 , -0.018 , -0.03  ],\n",
       "       [-0.0036,  0.0292,  0.0084,  0.012 ,  0.018 ,  0.03  ],\n",
       "       [-0.0084,  0.0084,  0.0296,  0.028 ,  0.042 ,  0.07  ],\n",
       "       [-0.012 ,  0.012 ,  0.028 ,  0.0521,  0.06  ,  0.1   ],\n",
       "       [-0.018 ,  0.018 ,  0.042 ,  0.06  ,  0.1044,  0.15  ],\n",
       "       [-0.03  ,  0.03  ,  0.07  ,  0.1   ,  0.15  ,  0.2696]])"
      ]
     },
     "execution_count": 4,
     "metadata": {},
     "output_type": "execute_result"
    }
   ],
   "source": [
    "covariance=np.diag((variance_e).ravel())+betas@betas.T*variance_m\n",
    "covariance"
   ]
  },
  {
   "cell_type": "markdown",
   "id": "c7781c2c",
   "metadata": {},
   "source": [
    "1.c"
   ]
  },
  {
   "cell_type": "code",
   "execution_count": 5,
   "id": "7a8102d5",
   "metadata": {},
   "outputs": [
    {
     "data": {
      "text/plain": [
       "array([[0.16155494],\n",
       "       [0.17088007],\n",
       "       [0.17204651],\n",
       "       [0.22825424],\n",
       "       [0.32310989],\n",
       "       [0.5192302 ]])"
      ]
     },
     "execution_count": 5,
     "metadata": {},
     "output_type": "execute_result"
    }
   ],
   "source": [
    "volatilities=np.sqrt(np.diag(covariance)).reshape(-1,1)\n",
    "volatilities"
   ]
  },
  {
   "cell_type": "code",
   "execution_count": 6,
   "id": "797e3e80",
   "metadata": {},
   "outputs": [
    {
     "data": {
      "text/plain": [
       "array([[ 1.        , -0.13040397, -0.30221302, -0.32541842, -0.34482759,\n",
       "        -0.35763586],\n",
       "       [-0.13040397,  1.        ,  0.2857209 ,  0.30765995,  0.32600993,\n",
       "         0.33811924],\n",
       "       [-0.30221302,  0.2857209 ,  1.        ,  0.71300621,  0.75553256,\n",
       "         0.78359605],\n",
       "       [-0.32541842,  0.30765995,  0.71300621,  1.        ,  0.81354605,\n",
       "         0.84376439],\n",
       "       [-0.34482759,  0.32600993,  0.75553256,  0.81354605,  1.        ,\n",
       "         0.89408965],\n",
       "       [-0.35763586,  0.33811924,  0.78359605,  0.84376439,  0.89408965,\n",
       "         1.        ]])"
      ]
     },
     "execution_count": 6,
     "metadata": {},
     "output_type": "execute_result"
    }
   ],
   "source": [
    "correlation=covariance/(volatilities@volatilities.T)\n",
    "correlation"
   ]
  },
  {
   "cell_type": "markdown",
   "id": "290f4cbc",
   "metadata": {},
   "source": [
    "1.d"
   ]
  },
  {
   "cell_type": "code",
   "execution_count": 7,
   "id": "b7a5e63b",
   "metadata": {},
   "outputs": [
    {
     "data": {
      "text/plain": [
       "array([[-0.1114172 ],\n",
       "       [ 0.10533703],\n",
       "       [ 0.24412004],\n",
       "       [ 0.26286477],\n",
       "       [ 0.27854301],\n",
       "       [ 0.28888921]])"
      ]
     },
     "execution_count": 7,
     "metadata": {},
     "output_type": "execute_result"
    }
   ],
   "source": [
    "sharpe_ratios=(mus-r)/np.sqrt(np.diag(covariance)).reshape(-1,1)\n",
    "sharpe_ratios"
   ]
  },
  {
   "cell_type": "markdown",
   "id": "c164da7c",
   "metadata": {},
   "source": [
    "# Exercise 2\n"
   ]
  },
  {
   "cell_type": "markdown",
   "id": "799c7647",
   "metadata": {},
   "source": [
    "2.a"
   ]
  },
  {
   "cell_type": "markdown",
   "id": "fded57dc",
   "metadata": {},
   "source": [
    "We consider the following Quadratic Programming (QP) problem:\n",
    "\n",
    "$$\n",
    "x^* = \\arg\\min \\frac{1}{2} x^T Q x - x^T R\n",
    "$$\n",
    "\n",
    "subject to:\n",
    "\n",
    "$$\n",
    "Ax = B\n",
    "$$\n",
    "\n",
    "$$\n",
    "Cx \\leq D\n",
    "$$\n",
    "\n",
    "\n",
    "where: \n",
    "\n",
    "\n",
    "$$\n",
    "Q = \\Sigma\n",
    "$$\n",
    "\n",
    "$$\n",
    "R = \\gamma*(\\mu - r)\n",
    "$$\n",
    "\n",
    "$$\n",
    "A = \\begin{bmatrix} 1 & 1 & 1 & 1 & 1 & 1 \\end{bmatrix}, \\quad \n",
    "B = \\begin{bmatrix} 1 \\end{bmatrix}\n",
    "$$\n",
    "\n",
    "$$\n",
    "C = \\begin{bmatrix} \n",
    "-1 & 0 & 0 & 0 & 0 & 0 \\\\\n",
    "0 & -1 & 0 & 0 & 0 & 0 \\\\\n",
    "0 & 0 & -1 & 0 & 0 & 0 \\\\\n",
    "0 & 0 & 0 & -1 & 0 & 0 \\\\\n",
    "0 & 0 & 0 & 0 & -1 & 0 \\\\\n",
    "0 & 0 & 0 & 0 & 0 & -1 \\\\\n",
    "1 & 0 & 0 & 0 & 0 & 0 \\\\\n",
    "0 & 1 & 0 & 0 & 0 & 0 \\\\\n",
    "0 & 0 & 1 & 0 & 0 & 0 \\\\\n",
    "0 & 0 & 0 & 1 & 0 & 0 \\\\\n",
    "0 & 0 & 0 & 0 & 1 & 0 \\\\\n",
    "0 & 0 & 0 & 0 & 0 & 1 \\\\\n",
    "\\end{bmatrix}\n",
    "$$\n",
    "\n",
    "$$\n",
    "D = \\begin{bmatrix} \n",
    "10 \\\\10 \\\\ 10 \\\\ 10 \\\\ 10 \\\\ 10 \\\\ \n",
    "10 \\\\ 10 \\\\ 10 \\\\ 10 \\\\ 10 \\\\ 10 \n",
    "\\end{bmatrix}\n",
    "$$\n"
   ]
  },
  {
   "cell_type": "markdown",
   "id": "34af0885",
   "metadata": {},
   "source": [
    "2.b"
   ]
  },
  {
   "cell_type": "code",
   "execution_count": 8,
   "id": "ce4e6c97",
   "metadata": {},
   "outputs": [
    {
     "name": "stdout",
     "output_type": "stream",
     "text": [
      "Gamma: 0.00\n",
      "  Portfolio Weights :\n",
      " [[ 0.33295234]\n",
      " [ 0.20351853]\n",
      " [ 0.36891721]\n",
      " [ 0.21061947]\n",
      " [ 0.0449561 ]\n",
      " [-0.16096365]]\n",
      "  Expected Return: 0.0257\n",
      "  Volatility: 0.0797\n",
      "  Sharpe Ratio: 0.0716\n",
      "--------------------------------------------------\n",
      "Gamma: 0.10\n",
      "  Portfolio Weights :\n",
      " [[ 0.2999226 ]\n",
      " [ 0.1879909 ]\n",
      " [ 0.3522106 ]\n",
      " [ 0.2110959 ]\n",
      " [ 0.06536001]\n",
      " [-0.11658001]]\n",
      "  Expected Return: 0.0338\n",
      "  Volatility: 0.0846\n",
      "  Sharpe Ratio: 0.1635\n",
      "--------------------------------------------------\n",
      "Gamma: 0.20\n",
      "  Portfolio Weights :\n",
      " [[ 0.26689285]\n",
      " [ 0.17246327]\n",
      " [ 0.33550398]\n",
      " [ 0.21157233]\n",
      " [ 0.08576393]\n",
      " [-0.07219636]]\n",
      "  Expected Return: 0.0420\n",
      "  Volatility: 0.0980\n",
      "  Sharpe Ratio: 0.2242\n",
      "--------------------------------------------------\n",
      "Gamma: 0.50\n",
      "  Portfolio Weights :\n",
      " [[0.16780362]\n",
      " [0.12588037]\n",
      " [0.28538415]\n",
      " [0.21300161]\n",
      " [0.14697567]\n",
      " [0.06095458]]\n",
      "  Expected Return: 0.0664\n",
      "  Volatility: 0.1634\n",
      "  Sharpe Ratio: 0.2839\n",
      "--------------------------------------------------\n",
      "Gamma: 1.00\n",
      "  Portfolio Weights :\n",
      " [[0.00265489]\n",
      " [0.04824221]\n",
      " [0.20185108]\n",
      " [0.21538376]\n",
      " [0.24899524]\n",
      " [0.28287281]]\n",
      "  Expected Return: 0.1071\n",
      "  Volatility: 0.2962\n",
      "  Sharpe Ratio: 0.2940\n",
      "--------------------------------------------------\n"
     ]
    }
   ],
   "source": [
    "def Gamma_Solver(returns, covariance, gamma, r):\n",
    "    N = returns.shape[0]    \n",
    "    Q = matrix(covariance,tc='d')\n",
    "    R = matrix(-gamma * (returns - r),tc='d')  \n",
    "    \n",
    "    A = matrix(np.ones((1, N)),tc='d')\n",
    "    B = matrix(1.0)\n",
    "    \n",
    "    C = matrix(np.vstack((-np.eye(N), np.eye(N))),tc='d')  \n",
    "    D = matrix(np.full((N*2,1),10),tc='d')\n",
    "\n",
    "    sol = solvers.qp(Q, R, C, D, A, B)\n",
    "    portfolio = np.array(sol['x'])  \n",
    "\n",
    "    \n",
    "    mu = float(portfolio.T @ returns) \n",
    "    var = float(portfolio.T @ covariance @ portfolio) \n",
    "    vol = np.sqrt(var)  \n",
    "    sharpe_ratio = (mu - r) / vol\n",
    "    \n",
    "    return portfolio, mu, vol, sharpe_ratio\n",
    "\n",
    "\n",
    "gammas=[0,0.1,0.2,0.5,1]\n",
    "\n",
    "gamma_portfolios=[]\n",
    "gamma_returns=[]\n",
    "gamma_volatilities=[]\n",
    "gamma_sharpe_ratios=[]\n",
    "\n",
    "for gamma in gammas:\n",
    "    results=Gamma_Solver(mus,covariance,gamma,r)\n",
    "    gamma_portfolios.append(results[0])\n",
    "    gamma_returns.append(results[1])\n",
    "    gamma_volatilities.append(results[2])\n",
    "    gamma_sharpe_ratios.append(results[3])\n",
    "    \n",
    "    print(f\"Gamma: {gamma:.2f}\")\n",
    "    print(f\"  Portfolio Weights :\\n {results[0]}\")\n",
    "    print(f\"  Expected Return: {results[1]:.4f}\")\n",
    "    print(f\"  Volatility: {results[2]:.4f}\")\n",
    "    print(f\"  Sharpe Ratio: {results[3]:.4f}\")\n",
    "    print(\"-\" * 50)"
   ]
  },
  {
   "cell_type": "markdown",
   "id": "d352b4cc",
   "metadata": {},
   "source": [
    "2c"
   ]
  },
  {
   "cell_type": "code",
   "execution_count": 9,
   "id": "b8af8c70",
   "metadata": {},
   "outputs": [
    {
     "data": {
      "image/png": "[encoded data removed]",
      "text/plain": [
       "<Figure size 900x500 with 1 Axes>"
      ]
     },
     "metadata": {},
     "output_type": "display_data"
    }
   ],
   "source": [
    "gammas1 = np.arange(-2, 0, 0.1)\n",
    "gammas2 = np.arange(0,1.05,0.05)\n",
    "gammas3 = np.arange(2,11,1)\n",
    "\n",
    "gammas=np.concatenate([gammas1,gammas2,gammas3])\n",
    "gamma_returns_NoRiskFree=[]\n",
    "gamma_volatilities_NoRiskFree=[]\n",
    "\n",
    "for gamma in gammas:\n",
    "    results=Gamma_Solver(mus,covariance,gamma,r)\n",
    "    gamma_returns_NoRiskFree.append(results[1])\n",
    "    gamma_volatilities_NoRiskFree.append(results[2])\n",
    "\n",
    "sns.set_theme(style=\"whitegrid\")  \n",
    "plt.figure(figsize=(9, 5))\n",
    "plt.plot(gamma_volatilities_NoRiskFree, gamma_returns_NoRiskFree, color='royalblue', linewidth=2, label=\"Efficient Frontier\", linestyle='-')\n",
    "plt.title(\"Efficient Frontier with no Risk-Free Asset\", fontsize=15, fontweight='bold')\n",
    "plt.xlabel(\"Volatility (Sigma)\", fontsize=12)\n",
    "plt.ylabel(\"Expected Return (Mu)\", fontsize=12)\n",
    "plt.show()\n",
    "\n"
   ]
  },
  {
   "cell_type": "markdown",
   "id": "1664f987",
   "metadata": {},
   "source": [
    "2d"
   ]
  },
  {
   "cell_type": "code",
   "execution_count": 10,
   "id": "97c7dd25",
   "metadata": {},
   "outputs": [
    {
     "name": "stdout",
     "output_type": "stream",
     "text": [
      "Target Volatility: 10%\n",
      "\n",
      "Portfolio:\n",
      "[[ 0.26299946]\n",
      " [ 0.17063294]\n",
      " [ 0.33353469]\n",
      " [ 0.21162848]\n",
      " [ 0.08816905]\n",
      " [-0.06696462]]\n",
      "Gamma: 0.21\n",
      "Expected Return: 0.0429\n",
      "Volatility: 0.1000\n",
      "Sharpe Ratio: 0.2293\n",
      "\n",
      "Target Volatility: 15%\n",
      "\n",
      "Portfolio:\n",
      "[[0.18579564]\n",
      " [0.13433861]\n",
      " [0.2944846 ]\n",
      " [0.21274209]\n",
      " [0.13586121]\n",
      " [0.03677784]]\n",
      "Gamma: 0.45\n",
      "Expected Return: 0.0620\n",
      "Volatility: 0.1500\n",
      "Sharpe Ratio: 0.2797\n"
     ]
    }
   ],
   "source": [
    "TargetVol=0.10\n",
    "gamma0=-0.5\n",
    "gamma1=10\n",
    "\n",
    "while(gamma1-gamma0>1e-11):\n",
    "    _, _, sigmanew,_ = Gamma_Solver(mus, covariance,(gamma1+gamma0)/2,r)\n",
    "    if(sigmanew<TargetVol):\n",
    "        gamma0 = (gamma1+gamma0)/2\n",
    "    else:\n",
    "        gamma1 =(gamma1+gamma0)/2\n",
    "\n",
    "gammafinal=(gamma1+gamma0)/2\n",
    "\n",
    "portfolio, mu, sigma, sharpe_ratio = Gamma_Solver(mus, covariance, gammafinal, r)\n",
    "\n",
    "print(f\"Target Volatility: 10%\")\n",
    "print()\n",
    "print(f\"Portfolio:\\n{portfolio}\")\n",
    "print(f\"Gamma: {gammafinal:.2f}\")\n",
    "print(f\"Expected Return: {mu:.4f}\")\n",
    "print(f\"Volatility: {sigma:.4f}\")\n",
    "print(f\"Sharpe Ratio: {sharpe_ratio:.4f}\")\n",
    "print()\n",
    "\n",
    "\n",
    "TargetVol=0.15\n",
    "gamma0=-0.5\n",
    "gamma1=10\n",
    "\n",
    "\n",
    "while(gamma1-gamma0>1e-11):\n",
    "    _, _, sigmanew,_ = Gamma_Solver(mus, covariance,(gamma1+gamma0)/2,r)\n",
    "    if(sigmanew<TargetVol):\n",
    "        gamma0 = (gamma1+gamma0)/2\n",
    "    else:\n",
    "        gamma1 =(gamma1+gamma0)/2\n",
    "\n",
    "gammafinal=(gamma1+gamma0)/2\n",
    "\n",
    "portfolio, mu, sigma, sharpe_ratio = Gamma_Solver(mus, covariance, gammafinal, r)\n",
    "\n",
    "print(f\"Target Volatility: 15%\")\n",
    "print()\n",
    "print(f\"Portfolio:\\n{portfolio}\")\n",
    "print(f\"Gamma: {gammafinal:.2f}\")\n",
    "print(f\"Expected Return: {mu:.4f}\")\n",
    "print(f\"Volatility: {sigma:.4f}\")\n",
    "print(f\"Sharpe Ratio: {sharpe_ratio:.4f}\")\n"
   ]
  },
  {
   "cell_type": "markdown",
   "id": "a27f6318",
   "metadata": {},
   "source": [
    "2e"
   ]
  },
  {
   "cell_type": "code",
   "execution_count": 11,
   "id": "f4ba1456",
   "metadata": {},
   "outputs": [
    {
     "name": "stdout",
     "output_type": "stream",
     "text": [
      "\n",
      "==================================================\n",
      "Tangency Portfolio Results\n",
      "==================================================\n",
      "Portfolio Weights: [-0.03483583  0.03061743  0.18288809  0.21592454  0.27215489  0.33325089]\n",
      "Expected Return: 0.1163\n",
      "Volatility: 0.3275\n",
      "Sharpe Ratio: 0.2941\n",
      "==================================================\n"
     ]
    }
   ],
   "source": [
    "inv_cov=np.linalg.inv(covariance)\n",
    "tangency_portfolio=((inv_cov@(mus-r))/(np.ones(6).reshape(1,-1)@inv_cov@(mus-r)))\n",
    "exp_ret_tangency_portfolio=(tangency_portfolio.T@mus)[0][0]\n",
    "vol_tangency_portfolio=np.sqrt(tangency_portfolio.T@covariance@tangency_portfolio)[0][0]\n",
    "sharpe_ratio_tangency_portfolio=(exp_ret_tangency_portfolio-r)/vol_tangency_portfolio\n",
    "print()\n",
    "print(\"=\" * 50)\n",
    "print(\"Tangency Portfolio Results\")\n",
    "print(\"=\" * 50)\n",
    "print(f\"Portfolio Weights: {tangency_portfolio.flatten()}\")\n",
    "print(f\"Expected Return: {exp_ret_tangency_portfolio:.4f}\")\n",
    "print(f\"Volatility: {vol_tangency_portfolio:.4f}\")\n",
    "print(f\"Sharpe Ratio: {sharpe_ratio_tangency_portfolio:.4f}\")\n",
    "print(\"=\" * 50)\n"
   ]
  },
  {
   "cell_type": "code",
   "execution_count": 12,
   "id": "55a359c2",
   "metadata": {},
   "outputs": [
    {
     "data": {
      "image/png": "[encoded data removed]",
      "text/plain": [
       "<Figure size 900x500 with 1 Axes>"
      ]
     },
     "metadata": {},
     "output_type": "display_data"
    }
   ],
   "source": [
    "plt.figure(figsize=(9, 5))\n",
    "\n",
    "vol_CML = np.linspace(0, 3, 100)  \n",
    "slope_CML = (exp_ret_tangency_portfolio - r) / vol_tangency_portfolio\n",
    "ret_CML = r + slope_CML * vol_CML \n",
    "\n",
    "sns.set_theme(style=\"whitegrid\")  \n",
    "\n",
    "plt.plot(gamma_volatilities_NoRiskFree, gamma_returns_NoRiskFree, color='royalblue', \n",
    "         linewidth=2, linestyle='-', label=\"Efficient Frontier\")\n",
    "\n",
    "plt.scatter(vol_tangency_portfolio, exp_ret_tangency_portfolio, color='red', s=20, zorder=3, label=\"Tangency Portfolio\")\n",
    "\n",
    "plt.plot(vol_CML, ret_CML, color='green', linewidth=1, linestyle='--', label=\"Capital Market Line\")\n",
    "\n",
    "\n",
    "plt.title(\"Efficient Frontier with NO Risk-Free Asset\", fontsize=15, fontweight='bold')\n",
    "plt.xlabel(\"Volatility (Sigma)\", fontsize=12)\n",
    "plt.ylabel(\"Expected Return (Mu)\", fontsize=12)\n",
    "\n",
    "plt.legend()\n",
    "\n",
    "plt.show()\n",
    "\n"
   ]
  },
  {
   "cell_type": "markdown",
   "id": "76ff8216",
   "metadata": {},
   "source": [
    "2f"
   ]
  },
  {
   "cell_type": "code",
   "execution_count": 13,
   "id": "5bbcaa53",
   "metadata": {},
   "outputs": [
    {
     "name": "stdout",
     "output_type": "stream",
     "text": [
      "\n",
      "==================================================\n",
      "\n",
      "Gamma of the Tanjency Portfolio\n",
      "1.11351000000001\n",
      "\n",
      "==================================================\n",
      "Numerical Tangency Portfolio Results\n",
      "==================================================\n",
      "Portfolio Weights: [-0.03483717  0.03061679  0.1828874   0.21592456  0.27215572  0.33325269]\n",
      "Expected Return: 0.11630\n",
      "Volatility: 0.32746\n",
      "Sharpe Ratio: 0.29408\n",
      "==================================================\n"
     ]
    }
   ],
   "source": [
    "max_sr=-1000\n",
    "for gamma in np.arange(0, 5, 0.001):  \n",
    "    _,_,_,sharpe_ratio=Gamma_Solver(mus,covariance,gamma,r)    \n",
    "    if(sharpe_ratio>max_sr):\n",
    "        max_sr=sharpe_ratio\n",
    "        gamma_true=gamma\n",
    "        \n",
    "       \n",
    "for gamma_new in np.arange(gamma_true-0.002,gamma_true+0.00001,0.00001):\n",
    "    _,_,_,sharpe_ratio=Gamma_Solver(mus,covariance,gamma_new,r)\n",
    "    if(sharpe_ratio>max_sr):\n",
    "        max_sr=sharpe_ratio\n",
    "        gamma_truee=gamma_new\n",
    "\n",
    "\n",
    "        \n",
    "print()\n",
    "print(\"=\" * 50)\n",
    "print()\n",
    "print(\"Gamma of the Tanjency Portfolio\")\n",
    "print(gamma_truee)\n",
    "print()\n",
    " \n",
    "portfolio,mu,vol,sharpe_ratio = Gamma_Solver(mus,covariance,gamma_truee,r)\n",
    "\n",
    "print(\"=\" * 50)\n",
    "print(\"Numerical Tangency Portfolio Results\")\n",
    "print(\"=\" * 50)\n",
    "print(f\"Portfolio Weights: {portfolio.flatten()}\")\n",
    "print(f\"Expected Return: {mu:.5f}\")\n",
    "print(f\"Volatility: {vol:.5f}\")\n",
    "print(f\"Sharpe Ratio: {sharpe_ratio:.5f}\")\n",
    "print(\"=\" * 50)"
   ]
  },
  {
   "cell_type": "markdown",
   "id": "8f499c33",
   "metadata": {},
   "source": [
    "2g"
   ]
  },
  {
   "cell_type": "markdown",
   "id": "a8948072",
   "metadata": {},
   "source": [
    "To extend the problem introducing the risk free asset we can simply change the covariance matrix and the return vectors including the risk free asset.\n",
    "\n",
    "We consider the following Quadratic Programming (QP) problem, including the risk-free asset:\n",
    "\n",
    "$$\n",
    "x^* = \\arg\\min \\frac{1}{2} x^T Q x - x^T R\n",
    "$$\n",
    "\n",
    "subject to:\n",
    "\n",
    "$$\n",
    "Ax = B\n",
    "$$\n",
    "\n",
    "$$\n",
    "Cx \\leq D\n",
    "$$\n",
    "\n",
    "\n",
    "\n",
    "where:\n",
    "\n",
    "$$\n",
    "Q = \\Sigma_{\\text{extended}} \n",
    "$$\n",
    "\n",
    "$$\n",
    "R = \\gamma * (\\mu_{\\text{extended}} - r_f)\n",
    "$$\n",
    "\n",
    "The **risk-free asset** is incorporated by extending the constraints:\n",
    "\n",
    "$$\n",
    "A = \\begin{bmatrix} 1 & 1 & 1 & 1 & 1 & 1 & 1 \\end{bmatrix}, \\quad \n",
    "B = \\begin{bmatrix} 1 \\end{bmatrix}\n",
    "$$\n",
    "\n",
    "$$\n",
    "C = \\begin{bmatrix} \n",
    "-1 & 0 & 0 & 0 & 0 & 0 & 0 \\\\\n",
    "0 & -1 & 0 & 0 & 0 & 0 & 0 \\\\\n",
    "0 & 0 & -1 & 0 & 0 & 0 & 0 \\\\\n",
    "0 & 0 & 0 & -1 & 0 & 0 & 0 \\\\\n",
    "0 & 0 & 0 & 0 & -1 & 0 & 0 \\\\\n",
    "0 & 0 & 0 & 0 & 0 & -1 & 0 \\\\\n",
    "0 & 0 & 0 & 0 & 0 & 0 & -1 \\\\\n",
    "1 & 0 & 0 & 0 & 0 & 0 & 0 \\\\\n",
    "0 & 1 & 0 & 0 & 0 & 0 & 0 \\\\\n",
    "0 & 0 & 1 & 0 & 0 & 0 & 0 \\\\\n",
    "0 & 0 & 0 & 1 & 0 & 0 & 0 \\\\\n",
    "0 & 0 & 0 & 0 & 1 & 0 & 0 \\\\\n",
    "0 & 0 & 0 & 0 & 0 & 1 & 0 \\\\\n",
    "0 & 0 & 0 & 0 & 0 & 0 & 1 \\\\\n",
    "\\end{bmatrix}\n",
    "$$\n",
    "\n",
    "$$\n",
    "D = \\begin{bmatrix} \n",
    "0 \\\\ 0 \\\\ 0 \\\\ 0 \\\\ 0 \\\\ 0 \\\\ 0 \\\\ \n",
    "1 \\\\ 1 \\\\ 1 \\\\ 1 \\\\ 1 \\\\ 1 \\\\ 1 \n",
    "\\end{bmatrix}\n",
    "$$\n"
   ]
  },
  {
   "cell_type": "code",
   "execution_count": 14,
   "id": "55c0e314",
   "metadata": {},
   "outputs": [
    {
     "data": {
      "image/png": "[encoded data removed]",
      "text/plain": [
       "<Figure size 900x500 with 1 Axes>"
      ]
     },
     "metadata": {},
     "output_type": "display_data"
    }
   ],
   "source": [
    "mus_new=np.vstack((mus,np.array([[r]])))\n",
    "covariance_new = np.zeros((N+1, N+1)) \n",
    "covariance_new[:N, :N] = covariance  \n",
    "\n",
    "gammas=np.arange(0.5,1.51,0.01)\n",
    "\n",
    "gamma_portfolios_RiskFree=[]\n",
    "gamma_returns_RiskFree=[]\n",
    "gamma_volatilities_RiskFree=[]\n",
    "gamma_sharpe_ratios_RiskFree=[]\n",
    "\n",
    "\n",
    "for gamma in gammas:\n",
    "    results=Gamma_Solver(mus_new,covariance_new,gamma,r)\n",
    "    gamma_returns_RiskFree.append(results[1])\n",
    "    gamma_volatilities_RiskFree.append(results[2])\n",
    "    gamma_sharpe_ratios_RiskFree.append(results[3])\n",
    "\n",
    "sns.set_theme(style=\"whitegrid\")  \n",
    "plt.figure(figsize=(9, 5))\n",
    "\n",
    "\n",
    "plt.plot(gamma_volatilities_RiskFree, gamma_returns_RiskFree, color='royalblue', linewidth=2, label=\"Efficient Frontier\", linestyle='-')\n",
    "plt.title(\"Efficient Frontier with Risk-Free Asset\", fontsize=15, fontweight='bold')\n",
    "plt.xlabel(\"Volatility\", fontsize=12)\n",
    "plt.ylabel(\"Expected Return\", fontsize=12)\n",
    "plt.show()"
   ]
  },
  {
   "cell_type": "markdown",
   "id": "00c20202",
   "metadata": {},
   "source": [
    "We observe that all the sharpe_ratios corresponding to positive gammas are equal, this is because the efficient frontier is given by two straight lines, which coincide with the capital market line for positive gamma.\n",
    "\n",
    "To find the tangency portfolio we can search for the first portfolio which as near zero allocation in the risk-free asset"
   ]
  },
  {
   "cell_type": "code",
   "execution_count": 15,
   "id": "342cbe37",
   "metadata": {},
   "outputs": [
    {
     "name": "stdout",
     "output_type": "stream",
     "text": [
      "Portfolio:\n",
      "\n",
      "[[-3.48359544e-02]\n",
      " [ 3.06175368e-02]\n",
      " [ 1.82888749e-01]\n",
      " [ 2.15925326e-01]\n",
      " [ 2.72155883e-01]\n",
      " [ 3.33252105e-01]\n",
      " [-3.64533933e-06]]\n",
      "Gamma:\n",
      "\n",
      "1.11351000000001\n",
      "Expected Return:\n",
      "\n",
      "0.11629685511115333\n",
      "volatility\n",
      "\n",
      "0.32745612066120594\n",
      "Sharpe Ratio:\n",
      "\n",
      "0.2940755998596355\n"
     ]
    }
   ],
   "source": [
    "for gamma in np.arange(0, 5, 0.001):  \n",
    "    results = Gamma_Solver(mus_new, covariance_new, gamma, r)\n",
    "    \n",
    "    if results[0][-1] < 0:  \n",
    "        break\n",
    "for gamma_new in np.arange(gamma-0.002,gamma+0.00001,0.00001):\n",
    "    results = Gamma_Solver(mus_new, covariance_new, gamma_new, r)\n",
    "    if results[0][-1] < 0:  \n",
    "        break\n",
    "\n",
    "vol_tangency_portfolio_brute_force=results[2]\n",
    "exp_ret_tangency_portfolio_brute_force=results[1]\n",
    "print(\"Portfolio:\\n\")\n",
    "print(results[0])\n",
    "print(\"Gamma:\\n\")\n",
    "print (gamma_new)\n",
    "print(\"Expected Return:\\n\")\n",
    "print(exp_ret_tangency_portfolio_brute_force)\n",
    "print(\"volatility\\n\")\n",
    "print(vol_tangency_portfolio_brute_force)\n",
    "print(\"Sharpe Ratio:\\n\")\n",
    "print(results[3])\n"
   ]
  },
  {
   "cell_type": "markdown",
   "id": "eaa86d5f",
   "metadata": {},
   "source": [
    "We can verify that the one above is indeed the same tangency portfoli as the previous one (except for a small error)\n"
   ]
  },
  {
   "cell_type": "code",
   "execution_count": 16,
   "id": "34f6861d",
   "metadata": {},
   "outputs": [
    {
     "data": {
      "image/png": "[encoded data removed]",
      "text/plain": [
       "<Figure size 900x500 with 1 Axes>"
      ]
     },
     "metadata": {},
     "output_type": "display_data"
    }
   ],
   "source": [
    "plt.figure(figsize=(9, 5))\n",
    "\n",
    "vol_CML = np.linspace(0, 3, 100)  \n",
    "slope_CML = (exp_ret_tangency_portfolio - r) / vol_tangency_portfolio\n",
    "ret_CML = r + slope_CML * vol_CML \n",
    "\n",
    "plt.plot(gamma_volatilities_RiskFree, gamma_returns_RiskFree, color='royalblue', \n",
    "         linewidth=2, linestyle='-', label=\"Risk-Free\")\n",
    "\n",
    "\n",
    "plt.plot(gamma_volatilities_NoRiskFree, gamma_returns_NoRiskFree, color='black', \n",
    "         linewidth=2, linestyle='-', label=\"No-Risk-Free\")\n",
    "\n",
    "\n",
    "plt.scatter(vol_tangency_portfolio, exp_ret_tangency_portfolio, color='red', s=60, zorder=3, label=\"Tangency Portfolio Analitical\")\n",
    "\n",
    "plt.scatter(vol_tangency_portfolio_brute_force, exp_ret_tangency_portfolio_brute_force, color='yellow', s=20, zorder=3, label=\"Tangency Portfolio \")\n",
    "\n",
    "\n",
    "\n",
    "\n",
    "plt.title(\"Efficient Frontier NO RiskFree\", fontsize=15, fontweight='bold')\n",
    "plt.xlabel(\"Volatility (Sigma)\", fontsize=12)\n",
    "plt.ylabel(\"Expected Return (Mu)\", fontsize=12)\n",
    "\n",
    "plt.legend()\n",
    "\n",
    "plt.show()"
   ]
  },
  {
   "cell_type": "markdown",
   "id": "b7112540",
   "metadata": {},
   "source": [
    "2h See the report"
   ]
  },
  {
   "cell_type": "markdown",
   "id": "16fd4a5a",
   "metadata": {},
   "source": [
    "# Exercise 3"
   ]
  },
  {
   "cell_type": "markdown",
   "id": "c4667b07",
   "metadata": {},
   "source": [
    "3a"
   ]
  },
  {
   "cell_type": "markdown",
   "id": "7f8cd565",
   "metadata": {},
   "source": [
    "We go back to no risk free asset but we change the constraints to ensure long only investments\n",
    "\n",
    "\n",
    "We consider the following **Quadratic Programming (QP)** problem:\n",
    "\n",
    "$$\n",
    "x^* = \\arg\\min \\frac{1}{2} x^T Q x - x^T R\n",
    "$$\n",
    "\n",
    "subject to:\n",
    "\n",
    "$$\n",
    "Ax = B\n",
    "$$\n",
    "$$\n",
    "Cx \\leq D\n",
    "$$\n",
    "\n",
    "where:\n",
    "\n",
    "\n",
    "$$\n",
    "Q = \\Sigma\n",
    "$$\n",
    "\n",
    "$$\n",
    "R = \\gamma*(\\mu - r)\n",
    "$$\n",
    "\n",
    "$$\n",
    "A = \\begin{bmatrix} 1 & 1 & 1 & 1 & 1 & 1 \\end{bmatrix}, \\quad \n",
    "B = \\begin{bmatrix} 1 \\end{bmatrix}\n",
    "$$\n",
    "\n",
    "$$\n",
    "C = \\begin{bmatrix} \n",
    "1 & 0 & 0 & 0 & 0 & 0 \\\\\n",
    "0 & 1 & 0 & 0 & 0 & 0 \\\\\n",
    "0 & 0 & 1 & 0 & 0 & 0 \\\\\n",
    "0 & 0 & 0 & 1 & 0 & 0 \\\\\n",
    "0 & 0 & 0 & 0 & 1 & 0 \\\\\n",
    "0 & 0 & 0 & 0 & 0 & 1 \\\\\n",
    "-1 & 0 & 0 & 0 & 0 & 0 \\\\\n",
    "0 & -1 & 0 & 0 & 0 & 0 \\\\\n",
    "0 & 0 & -1 & 0 & 0 & 0 \\\\\n",
    "0 & 0 & 0 & -1 & 0 & 0 \\\\\n",
    "0 & 0 & 0 & 0 & -1 & 0 \\\\\n",
    "0 & 0 & 0 & 0 & 0 & -1 \\\\\n",
    "\\end{bmatrix}\n",
    "$$\n",
    "\n",
    "$$\n",
    "D = \\begin{bmatrix} \n",
    "1 \\\\ 1 \\\\ 1 \\\\ 1 \\\\ 1 \\\\ 1 \\\\\n",
    "0 \\\\ 0 \\\\ 0 \\\\ 0 \\\\ 0 \\\\ 0 \n",
    "\\end{bmatrix}\n",
    "$$\n"
   ]
  },
  {
   "cell_type": "code",
   "execution_count": 17,
   "id": "2acf97c9",
   "metadata": {},
   "outputs": [
    {
     "name": "stdout",
     "output_type": "stream",
     "text": [
      "Portfolios mean volatility and sharpe ratio for various gammas\n",
      "Gamma: 0.00\n",
      "  Portfolio Weights :\n",
      " [[4.45841251e-01]\n",
      " [2.22331926e-01]\n",
      " [2.79854161e-01]\n",
      " [5.19651922e-02]\n",
      " [6.71214885e-06]\n",
      " [7.58310308e-07]]\n",
      "  Expected Return: 0.0308\n",
      "  Volatility: 0.0887\n",
      "  Sharpe Ratio: 0.1224\n",
      "--------------------------------------------------\n",
      "Gamma: 0.10\n",
      "  Portfolio Weights :\n",
      " [[3.72144783e-01]\n",
      " [2.02357263e-01]\n",
      " [3.05173107e-01]\n",
      " [1.20271319e-01]\n",
      " [5.19256177e-05]\n",
      " [1.60108379e-06]]\n",
      "  Expected Return: 0.0370\n",
      "  Volatility: 0.0921\n",
      "  Sharpe Ratio: 0.1845\n",
      "--------------------------------------------------\n",
      "Gamma: 0.20\n",
      "  Portfolio Weights :\n",
      " [[3.04178669e-01]\n",
      " [1.81936956e-01]\n",
      " [3.19996336e-01]\n",
      " [1.74111273e-01]\n",
      " [1.97766920e-02]\n",
      " [7.40694324e-08]]\n",
      "  Expected Return: 0.0435\n",
      "  Volatility: 0.1022\n",
      "  Sharpe Ratio: 0.2296\n",
      "--------------------------------------------------\n",
      "Gamma: 0.50\n",
      "  Portfolio Weights :\n",
      " [[0.16781049]\n",
      " [0.12588297]\n",
      " [0.28538092]\n",
      " [0.212994  ]\n",
      " [0.14696351]\n",
      " [0.0609681 ]]\n",
      "  Expected Return: 0.0664\n",
      "  Volatility: 0.1634\n",
      "  Sharpe Ratio: 0.2839\n",
      "--------------------------------------------------\n",
      "Gamma: 1.00\n",
      "  Portfolio Weights :\n",
      " [[0.00306577]\n",
      " [0.04808215]\n",
      " [0.20157581]\n",
      " [0.21524029]\n",
      " [0.24899235]\n",
      " [0.28304362]]\n",
      "  Expected Return: 0.1071\n",
      "  Volatility: 0.2961\n",
      "  Sharpe Ratio: 0.2940\n",
      "--------------------------------------------------\n"
     ]
    }
   ],
   "source": [
    "print(\"Portfolios mean volatility and sharpe ratio for various gammas\")\n",
    "\n",
    "def Gamma_Solver_LongOnly(returns, covariance, gamma, r):\n",
    "    N = returns.shape[0]    \n",
    "    Q = matrix(covariance, tc='d')\n",
    "    R = matrix(-gamma * (returns - r), tc='d')  \n",
    "    \n",
    "    A = matrix(np.ones((1, N)), tc='d')\n",
    "    B = matrix(1.0, tc='d')\n",
    "    \n",
    "    C = matrix( -np.eye(N), tc='d')  \n",
    "    D = matrix( np.full(N, 0), tc='d')\n",
    "\n",
    "    sol = solvers.qp(Q, R, C, D, A, B)\n",
    "    portfolio = np.array(sol['x'])  \n",
    "\n",
    "    mu = float(portfolio.T @ returns)  \n",
    "    var = float(portfolio.T @ covariance @ portfolio)  \n",
    "    vol = np.sqrt(var)  \n",
    "    sharpe_ratio = (mu - r) / vol  \n",
    "    \n",
    "    return portfolio, mu, vol, sharpe_ratio\n",
    "\n",
    "gammas = [0, 0.1, 0.2, 0.5, 1]\n",
    "\n",
    "gamma_portfolios_LongOnly = []\n",
    "gamma_returns_LongOnly = []\n",
    "gamma_volatilities_LongOnly = []\n",
    "gamma_sharpe_ratios_LongOnly = []\n",
    "\n",
    "for gamma in gammas:\n",
    "    results = Gamma_Solver_LongOnly(mus, covariance, gamma, r)\n",
    "    gamma_portfolios_LongOnly.append(results[0])\n",
    "    gamma_returns_LongOnly.append(results[1])\n",
    "    gamma_volatilities_LongOnly.append(results[2])\n",
    "    gamma_sharpe_ratios_LongOnly.append(results[3])\n",
    "    \n",
    "    print(f\"Gamma: {gamma:.2f}\")\n",
    "    print(f\"  Portfolio Weights :\\n {results[0]}\")\n",
    "    print(f\"  Expected Return: {results[1]:.4f}\")\n",
    "    print(f\"  Volatility: {results[2]:.4f}\")\n",
    "    print(f\"  Sharpe Ratio: {results[3]:.4f}\")\n",
    "    print(\"-\" * 50)\n"
   ]
  },
  {
   "cell_type": "markdown",
   "id": "8d799578",
   "metadata": {},
   "source": [
    "3b"
   ]
  },
  {
   "cell_type": "code",
   "execution_count": 18,
   "id": "9a07a1d3",
   "metadata": {},
   "outputs": [
    {
     "data": {
      "image/png": "[encoded data removed]",
      "text/plain": [
       "<Figure size 900x500 with 1 Axes>"
      ]
     },
     "metadata": {},
     "output_type": "display_data"
    },
    {
     "data": {
      "image/png": "[encoded data removed]",
      "text/plain": [
       "<Figure size 900x500 with 1 Axes>"
      ]
     },
     "metadata": {},
     "output_type": "display_data"
    }
   ],
   "source": [
    "gammas1 = np.arange(-2, 0, 0.1)\n",
    "gammas2 = np.arange(0,1.05,0.05)\n",
    "gammas3 = np.arange(2,11,1)\n",
    "gammas=np.concatenate([gammas1,gammas2,gammas3])\n",
    "\n",
    "gamma_portfolios_LongOnly=[]\n",
    "gamma_returns_LongOnly=[]\n",
    "gamma_volatilities_LongOnly=[]\n",
    "gamma_sharpe_ratios_LongOnly=[]\n",
    "\n",
    "\n",
    "for gamma in gammas:\n",
    "    results=Gamma_Solver_LongOnly(mus,covariance,gamma,r)\n",
    "    gamma_portfolios_LongOnly.append(results[0])\n",
    "    gamma_returns_LongOnly.append(results[1])\n",
    "    gamma_volatilities_LongOnly.append(results[2])\n",
    "    gamma_sharpe_ratios_LongOnly.append(results[3])\n",
    "\n",
    "\n",
    "\n",
    "sns.set_theme(style=\"darkgrid\")  \n",
    "plt.figure(figsize=(9, 5))\n",
    "plt.plot(gamma_volatilities_LongOnly, gamma_returns_LongOnly, color='royalblue', linewidth=2, label=\"Efficient Frontier\", linestyle='-')\n",
    "plt.title(\"Efficient Frontier LongOnly\", fontsize=15, fontweight='bold')\n",
    "plt.xlabel(\"Volatility (Sigma)\", fontsize=12)\n",
    "plt.ylabel(\"Expected Return (Mu)\", fontsize=12)\n",
    "plt.show()\n",
    "\n",
    "\n",
    "\n",
    "sns.set_theme(style=\"whitegrid\")\n",
    "\n",
    "plt.figure(figsize=(9, 5))\n",
    "\n",
    "plt.plot(gamma_volatilities_LongOnly, gamma_returns_LongOnly, \n",
    "         color='royalblue', linewidth=2, linestyle='-', label=\"Efficient Frontier (LongOnly)\")\n",
    "\n",
    "plt.plot(gamma_volatilities_NoRiskFree, gamma_returns_NoRiskFree, \n",
    "         color='crimson', linewidth=2, linestyle='--', label=\"Efficient Frontier\")\n",
    "\n",
    "plt.title(\"Efficient Frontier comparison \", fontsize=15, fontweight='bold')\n",
    "plt.xlabel(\"Volatility\", fontsize=12)\n",
    "plt.ylabel(\"Expected Return\", fontsize=12)\n",
    "\n",
    "plt.legend(fontsize=12)\n",
    "plt.xlim(0, 0.55)\n",
    "plt.ylim(-0.025, 0.25)\n",
    "\n",
    "plt.show()\n",
    "\n"
   ]
  },
  {
   "cell_type": "markdown",
   "id": "6f04cbc7",
   "metadata": {},
   "source": [
    "As expected, introducing constraints to the mean-variance optimizer results in an efficient frontier that is strictly dominated, in terms of mean-variance optimization, by the originalfrontier.\n",
    "\n",
    "However, we observe that for sufficiently high and positive values of gamma, the two frontiers nearly overlap."
   ]
  },
  {
   "cell_type": "markdown",
   "id": "e88eed23",
   "metadata": {},
   "source": [
    "3c"
   ]
  },
  {
   "cell_type": "code",
   "execution_count": 37,
   "id": "d13bc737",
   "metadata": {},
   "outputs": [
    {
     "name": "stdout",
     "output_type": "stream",
     "text": [
      "\n",
      "3c\n",
      "Target Volatility: 10%\n",
      "Gamma: 0.18\n",
      "Portfolio:\n",
      "[[3.13156344e-01]\n",
      " [1.85358104e-01]\n",
      " [3.21126692e-01]\n",
      " [1.70317514e-01]\n",
      " [1.00412765e-02]\n",
      " [6.94757234e-08]]\n",
      "\n",
      "Expected Return: 0.0423\n",
      "Volatility: 0.1000\n",
      "Sharpe Ratio: 0.2231\n",
      "\n",
      "Target Volatility: 15%\n",
      "Gamma: 0.45\n",
      "Portfolio:\n",
      "[[0.18579658]\n",
      " [0.13433889]\n",
      " [0.29448433]\n",
      " [0.21274127]\n",
      " [0.1358597 ]\n",
      " [0.03677923]]\n",
      "\n",
      "Expected Return: 0.0620\n",
      "Volatility: 0.1500\n",
      "Sharpe Ratio: 0.2797\n"
     ]
    }
   ],
   "source": [
    "print()\n",
    "print(\"3c\")\n",
    "TargetVol=0.10\n",
    "gamma0=-0.5\n",
    "gamma1=10\n",
    "\n",
    "while(gamma1-gamma0>1e-11):\n",
    "    _, _, sigmanew,_ = Gamma_Solver_LongOnly(mus, covariance,(gamma1+gamma0)/2,r)\n",
    "    if(sigmanew<TargetVol):\n",
    "        gamma0 = (gamma1+gamma0)/2\n",
    "    else:\n",
    "        gamma1 =(gamma1+gamma0)/2\n",
    "\n",
    "gammafinal=(gamma1+gamma0)/2\n",
    "\n",
    "portfolio, mu, sigma, sharpe_ratio = Gamma_Solver_LongOnly(mus, covariance, gammafinal, r)\n",
    "\n",
    "print(f\"Target Volatility: 10%\")\n",
    "print(f\"Gamma: {gammafinal:.2f}\")\n",
    "print(\"Portfolio:\")\n",
    "print(portfolio)\n",
    "print()\n",
    "print(f\"Expected Return: {mu:.4f}\")\n",
    "print(f\"Volatility: {sigma:.4f}\")\n",
    "print(f\"Sharpe Ratio: {sharpe_ratio:.4f}\")\n",
    "\n",
    "print()\n",
    "\n",
    "\n",
    "TargetVol=0.15\n",
    "gamma0=-0.5\n",
    "gamma1=10\n",
    "\n",
    "\n",
    "while(gamma1-gamma0>1e-11):\n",
    "    _, _, sigmanew,_ = Gamma_Solver_LongOnly(mus, covariance,(gamma1+gamma0)/2,r)\n",
    "    if(sigmanew<TargetVol):\n",
    "        gamma0 = (gamma1+gamma0)/2\n",
    "    else:\n",
    "        gamma1 =(gamma1+gamma0)/2\n",
    "\n",
    "gammafinal=(gamma1+gamma0)/2\n",
    "\n",
    "portfolio, mu, sigma, sharpe_ratio = Gamma_Solver_LongOnly(mus, covariance, gammafinal, r)\n",
    "\n",
    "print(f\"Target Volatility: 15%\")\n",
    "print(f\"Gamma: {gammafinal:.2f}\")\n",
    "print(\"Portfolio:\")\n",
    "print(portfolio)\n",
    "print()\n",
    "print(f\"Expected Return: {mu:.4f}\")\n",
    "print(f\"Volatility: {sigma:.4f}\")\n",
    "print(f\"Sharpe Ratio: {sharpe_ratio:.4f}\")"
   ]
  },
  {
   "cell_type": "markdown",
   "id": "f1aac865",
   "metadata": {},
   "source": [
    "3d"
   ]
  },
  {
   "cell_type": "code",
   "execution_count": 20,
   "id": "20de3317",
   "metadata": {},
   "outputs": [
    {
     "name": "stdout",
     "output_type": "stream",
     "text": [
      "Gamma of the Tanjency Portfolio\n",
      "1.069\n",
      "==================================================\n",
      "Numerical Tangency Portfolio Long_Only\n",
      "==================================================\n",
      "Portfolio Weights: [3.75020374e-06 2.96676698e-02 1.76841109e-01 2.08686393e-01\n",
      " 2.62934901e-01 3.21866176e-01]\n",
      "Expected Return: 0.1124\n",
      "Volatility: 0.3143\n",
      "Sharpe Ratio: 0.2940\n",
      "==================================================\n",
      "Tangency Portfolio Long/Short\n",
      "==================================================\n",
      "Portfolio Weights: [-0.03483583  0.03061743  0.18288809  0.21592454  0.27215489  0.33325089]\n",
      "Expected Return: 0.1163\n",
      "Volatility: 0.3275\n",
      "Sharpe Ratio: 0.2941\n",
      "==================================================\n"
     ]
    }
   ],
   "source": [
    "gammas=np.arange(0,4,0.001)\n",
    "max_sr=-1000\n",
    "for gamma in gammas:\n",
    "    _,_,_,sharpe_ratio=Gamma_Solver_LongOnly(mus,covariance,gamma,r)\n",
    "    if(sharpe_ratio>max_sr):\n",
    "        max_sr=sharpe_ratio\n",
    "        gamma_true=gamma\n",
    "gamma_long_only=gamma_true\n",
    "\n",
    "print(\"Gamma of the Tanjency Portfolio\")\n",
    "print(gamma_true)\n",
    "\n",
    "tangency_portfolio_Long_Only,mu_tangency_portfolio_Long_Only,vol_tangency_portfolio_Long_Only,sharpe_ratio_tangency_portfolio_Long_Only = Gamma_Solver_LongOnly(mus,covariance,gamma_true,r)\n",
    "\n",
    "print(\"=\" * 50)\n",
    "print(\"Numerical Tangency Portfolio Long_Only\")\n",
    "print(\"=\" * 50)\n",
    "print(f\"Portfolio Weights: {tangency_portfolio_Long_Only.flatten()}\")\n",
    "print(f\"Expected Return: {mu_tangency_portfolio_Long_Only:.4f}\")\n",
    "print(f\"Volatility: {vol_tangency_portfolio_Long_Only:.4f}\")\n",
    "print(f\"Sharpe Ratio: {sharpe_ratio_tangency_portfolio_Long_Only:.4f}\")\n",
    "print(\"=\" * 50)\n",
    "\n",
    "print(\"Tangency Portfolio Long/Short\")\n",
    "print(\"=\" * 50)\n",
    "print(f\"Portfolio Weights: {tangency_portfolio.flatten()}\")\n",
    "print(f\"Expected Return: {exp_ret_tangency_portfolio:.4f}\")\n",
    "print(f\"Volatility: {vol_tangency_portfolio:.4f}\")\n",
    "print(f\"Sharpe Ratio: {sharpe_ratio_tangency_portfolio:.4f}\")\n",
    "print(\"=\" * 50)\n"
   ]
  },
  {
   "cell_type": "markdown",
   "id": "5a68df44",
   "metadata": {},
   "source": [
    "We observe that the weights of the original tangency portfolio nearly satisfy the long-only constraints on their own, with the exception of the first asset. As a result, the long-only tangency portfolio is quite similar to the long/short one, and the Sharpe ratio remains nearly identical."
   ]
  },
  {
   "cell_type": "markdown",
   "id": "5c107482",
   "metadata": {},
   "source": [
    "3e"
   ]
  },
  {
   "cell_type": "code",
   "execution_count": 39,
   "id": "3c39ec8c",
   "metadata": {},
   "outputs": [
    {
     "name": "stdout",
     "output_type": "stream",
     "text": [
      "\n",
      "3e\n",
      "\n",
      "Betas\n",
      "\n",
      "[[-0.18708459]\n",
      " [ 0.19477209]\n",
      " [ 0.45443039]\n",
      " [ 0.64917416]\n",
      " [ 0.97374712]\n",
      " [ 1.62289304]]\n",
      "\n",
      "\n",
      "\n",
      "Impllied Expected Returns\n",
      "\n",
      "[[0.00270842]\n",
      " [0.03800211]\n",
      " [0.06200142]\n",
      " [0.08000091]\n",
      " [0.11000007]\n",
      " [0.16999837]]\n",
      "\n",
      "Alpha Coefficients\n",
      "\n",
      "[[-7.08420414e-04]\n",
      " [-2.10834991e-06]\n",
      " [-1.42312026e-06]\n",
      " [-9.14067476e-07]\n",
      " [-6.57497300e-08]\n",
      " [ 1.63084567e-06]]\n",
      "\n"
     ]
    }
   ],
   "source": [
    "print()\n",
    "print(\"3e\")\n",
    "Covariances=covariance@tangency_portfolio_Long_Only\n",
    "Long_Only_Betas=Covariances/(vol_tangency_portfolio_Long_Only*vol_tangency_portfolio_Long_Only)\n",
    "print()\n",
    "print(\"Betas\")\n",
    "print()\n",
    "print(Long_Only_Betas)\n",
    "print()\n",
    "print(\"\")\n",
    "implied_expected_returns=r+Long_Only_Betas*(mu_tangency_portfolio_Long_Only-r)\n",
    "print()\n",
    "print(\"Impllied Expected Returns\")\n",
    "print()\n",
    "print(implied_expected_returns)\n",
    "print()\n",
    "print(\"Alpha Coefficients\")\n",
    "print()\n",
    "alphas=mus-implied_expected_returns_2\n",
    "\n",
    "print(alphas)\n",
    "print()\n"
   ]
  },
  {
   "cell_type": "markdown",
   "id": "0067b04a",
   "metadata": {},
   "source": [
    "# Exercise 4"
   ]
  },
  {
   "cell_type": "code",
   "execution_count": 22,
   "id": "b9b1635e",
   "metadata": {},
   "outputs": [],
   "source": [
    "def MR (covariance,x):\n",
    "    denominator=np.sqrt(x.T@covariance@x)\n",
    "    numerator = covariance@x \n",
    "    return (numerator/denominator)\n",
    "def RC (covariance,x):\n",
    "    return (x*MR(covariance,x))\n",
    "def RRC(covariance,x):\n",
    "    return (RC(covariance,x))/np.sqrt(x.T@covariance@x)\n",
    "def portfolio_vol(portfolio,covariance):\n",
    "    return (np.sqrt(portfolio.T@covariance@portfolio))\n",
    "def portfolio_mean (portfolio,returns):\n",
    "    return (portfolio.T@returns)"
   ]
  },
  {
   "cell_type": "markdown",
   "id": "1399f359",
   "metadata": {},
   "source": [
    "4a "
   ]
  },
  {
   "cell_type": "code",
   "execution_count": 40,
   "id": "e82b681a",
   "metadata": {},
   "outputs": [
    {
     "name": "stdout",
     "output_type": "stream",
     "text": [
      "Long-Only Tangency Portfolio Risk Decomposition\n",
      "Portfolio:\n",
      "[[3.75020374e-06]\n",
      " [2.96676698e-02]\n",
      " [1.76841109e-01]\n",
      " [2.08686393e-01]\n",
      " [2.62934901e-01]\n",
      " [3.21866176e-01]]\n",
      "\n",
      "MR\n",
      "[[-0.05880731]\n",
      " [ 0.06122377]\n",
      " [ 0.14284356]\n",
      " [ 0.20405843]\n",
      " [ 0.3060832 ]\n",
      " [ 0.51013275]]\n",
      "RC\n",
      "[[-2.20539407e-07]\n",
      " [ 1.81636649e-03]\n",
      " [ 2.52606144e-02]\n",
      " [ 4.25842176e-02]\n",
      " [ 8.04799571e-02]\n",
      " [ 1.64194479e-01]]\n",
      "RRC\n",
      "[[-7.01605347e-07]\n",
      " [ 5.77843414e-03]\n",
      " [ 8.03619739e-02]\n",
      " [ 1.35473814e-01]\n",
      " [ 2.56032103e-01]\n",
      " [ 5.22354376e-01]]\n"
     ]
    }
   ],
   "source": [
    "print(\"Long-Only Tangency Portfolio Risk Decomposition\")\n",
    "\n",
    "print(\"Portfolio:\")\n",
    "print(tangency_portfolio_Long_Only)\n",
    "print()\n",
    "print(\"MR\")\n",
    "print(MR(covariance,tangency_portfolio_Long_Only))\n",
    "print(\"RC\")\n",
    "print(RC(covariance,tangency_portfolio_Long_Only))\n",
    "print(\"RRC\")\n",
    "print(RRC(covariance,tangency_portfolio_Long_Only))\n",
    "\n"
   ]
  },
  {
   "cell_type": "markdown",
   "id": "ba147ce8",
   "metadata": {},
   "source": [
    "4b"
   ]
  },
  {
   "cell_type": "code",
   "execution_count": 42,
   "id": "850cf456",
   "metadata": {},
   "outputs": [
    {
     "name": "stdout",
     "output_type": "stream",
     "text": [
      "EW Tangency Portfolio Risk Decomposition\n",
      "\n",
      "Portfolio:\n",
      "[[0.16666667]\n",
      " [0.16666667]\n",
      " [0.16666667]\n",
      " [0.16666667]\n",
      " [0.16666667]\n",
      " [0.16666667]]\n",
      "MR\n",
      "[[-0.03874004]\n",
      " [ 0.0793369 ]\n",
      " [ 0.14314403]\n",
      " [ 0.2026467 ]\n",
      " [ 0.30080502]\n",
      " [ 0.49762805]]\n",
      "RC\n",
      "[[-0.00645667]\n",
      " [ 0.01322282]\n",
      " [ 0.02385734]\n",
      " [ 0.03377445]\n",
      " [ 0.05013417]\n",
      " [ 0.08293801]]\n",
      "RRC\n",
      "[[-0.03269697]\n",
      " [ 0.06696111]\n",
      " [ 0.12081493]\n",
      " [ 0.17103576]\n",
      " [ 0.25388232]\n",
      " [ 0.42000285]]\n",
      "Volatility\n",
      "[[0.19747011]]\n"
     ]
    }
   ],
   "source": [
    "EW_Portfolio=np.ones(N).reshape(-1, 1)/N\n",
    "print(\"EW Tangency Portfolio Risk Decomposition\")\n",
    "print()\n",
    "print(\"Portfolio:\")\n",
    "print(EW_Portfolio)\n",
    "print(\"MR\")\n",
    "print(MR(covariance,EW_Portfolio))\n",
    "print(\"RC\")\n",
    "print(RC(covariance,EW_Portfolio))\n",
    "print(\"RRC\")\n",
    "print(RRC(covariance,EW_Portfolio))\n",
    "print(\"Volatility\")\n",
    "print(np.sqrt(EW_Portfolio.T@covariance@EW_Portfolio))\n"
   ]
  },
  {
   "cell_type": "code",
   "execution_count": 25,
   "id": "c6e71610",
   "metadata": {},
   "outputs": [
    {
     "name": "stdout",
     "output_type": "stream",
     "text": [
      "[[0.16666667]\n",
      " [0.16666667]\n",
      " [0.16666667]\n",
      " [0.16666667]\n",
      " [0.16666667]\n",
      " [0.16666667]]\n"
     ]
    }
   ],
   "source": [
    "print(EW_Portfolio)"
   ]
  },
  {
   "cell_type": "markdown",
   "id": "b76649bf",
   "metadata": {},
   "source": [
    "4c"
   ]
  },
  {
   "cell_type": "markdown",
   "id": "44150d87",
   "metadata": {},
   "source": [
    "To find the minimum variance portfolio we solve another QP Problem but without considering the return optimization"
   ]
  },
  {
   "cell_type": "markdown",
   "id": "03e39d89",
   "metadata": {},
   "source": [
    "We consider the following **Quadratic Programming (QP)** problem:\n",
    "\n",
    "$$\n",
    "x^* = \\arg\\min \\frac{1}{2} x^T Q x\n",
    "$$\n",
    "\n",
    "subject to:\n",
    "\n",
    "$$\n",
    "Ax = B\n",
    "$$\n",
    "$$\n",
    "Cx \\leq D\n",
    "$$\n",
    "\n",
    "where:\n",
    "\n",
    "$$\n",
    "A = \\begin{bmatrix} 1 & 1 & 1 & 1 & 1 & 1 \\end{bmatrix}, \\quad \n",
    "B = \\begin{bmatrix} 1 \\end{bmatrix}\n",
    "$$\n",
    "\n",
    "$$\n",
    "Q = \\Sigma\n",
    "$$\n",
    "\n",
    "\n",
    "$$\n",
    "C = \\begin{bmatrix} \n",
    "1 & 0 & 0 & 0 & 0 & 0 \\\\\n",
    "0 & 1 & 0 & 0 & 0 & 0 \\\\\n",
    "0 & 0 & 1 & 0 & 0 & 0 \\\\\n",
    "0 & 0 & 0 & 1 & 0 & 0 \\\\\n",
    "0 & 0 & 0 & 0 & 1 & 0 \\\\\n",
    "0 & 0 & 0 & 0 & 0 & 1 \\\\\n",
    "-1 & 0 & 0 & 0 & 0 & 0 \\\\\n",
    "0 & -1 & 0 & 0 & 0 & 0 \\\\\n",
    "0 & 0 & -1 & 0 & 0 & 0 \\\\\n",
    "0 & 0 & 0 & -1 & 0 & 0 \\\\\n",
    "0 & 0 & 0 & 0 & -1 & 0 \\\\\n",
    "0 & 0 & 0 & 0 & 0 & -1 \\\\\n",
    "\\end{bmatrix}\n",
    "$$\n",
    "\n",
    "$$\n",
    "D = \\begin{bmatrix} \n",
    "1 \\\\ 1 \\\\ 1 \\\\ 1 \\\\ 1 \\\\ 1 \\\\\n",
    "0 \\\\ 0 \\\\ 0 \\\\ 0 \\\\ 0 \\\\ 0 \n",
    "\\end{bmatrix}\n",
    "$$\n"
   ]
  },
  {
   "cell_type": "code",
   "execution_count": 26,
   "id": "48256a60",
   "metadata": {},
   "outputs": [],
   "source": [
    "def MinimumVariance_Solver_Long_Only(covariance):\n",
    "    N = covariance.shape[0]  \n",
    "    \n",
    "    Q = matrix(covariance, tc='d')\n",
    "    R = matrix(np.zeros(N), tc='d')  \n",
    "    \n",
    "    A = matrix(np.ones((1, N)), tc='d')\n",
    "    B = matrix(1.0, tc='d')\n",
    "    \n",
    "    C = matrix(-np.eye(N), tc='d')  \n",
    "    D = matrix(np.full(N, 0), tc='d')\n",
    "\n",
    "    sol = solvers.qp(Q, R, C, D, A, B)\n",
    "    portfolio = np.array(sol['x'])  \n",
    "\n",
    "    var = float(portfolio.T @ covariance @ portfolio)  \n",
    "    vol = np.sqrt(var)  \n",
    "\n",
    "    return portfolio\n"
   ]
  },
  {
   "cell_type": "code",
   "execution_count": 27,
   "id": "4932d746",
   "metadata": {},
   "outputs": [
    {
     "data": {
      "text/plain": [
       "array([[1., 1., 1., 1., 1., 1.]])"
      ]
     },
     "execution_count": 27,
     "metadata": {},
     "output_type": "execute_result"
    }
   ],
   "source": [
    "np.ones((1, N))"
   ]
  },
  {
   "cell_type": "code",
   "execution_count": 43,
   "id": "d4a51946",
   "metadata": {},
   "outputs": [
    {
     "name": "stdout",
     "output_type": "stream",
     "text": [
      "MV Portfolio Risk Decomposition\n",
      "Portfolio:\n",
      "\n",
      "[[4.45841251e-01]\n",
      " [2.22331926e-01]\n",
      " [2.79854161e-01]\n",
      " [5.19651922e-02]\n",
      " [6.71214885e-06]\n",
      " [7.58310308e-07]]\n",
      "\n",
      "MR\n",
      "[[0.08866524]\n",
      " [0.08866528]\n",
      " [0.08866529]\n",
      " [0.08866647]\n",
      " [0.12236344]\n",
      " [0.20393741]]\n",
      "RC\n",
      "[[3.95306232e-02]\n",
      " [1.97131235e-02]\n",
      " [2.48133509e-02]\n",
      " [4.60757017e-03]\n",
      " [8.21321603e-07]\n",
      " [1.54647842e-07]]\n",
      "RRC\n",
      "[[4.45839240e-01]\n",
      " [2.22331026e-01]\n",
      " [2.79853051e-01]\n",
      " [5.19656767e-02]\n",
      " [9.26313247e-06]\n",
      " [1.74416872e-06]]\n",
      "Volatility\n",
      "[[0.08866564]]\n"
     ]
    }
   ],
   "source": [
    "minimum_variance_portfolio=MinimumVariance_Solver_Long_Only(covariance)\n",
    "\n",
    "\n",
    "print(\"MV Portfolio Risk Decomposition\")\n",
    "print(\"Portfolio:\")\n",
    "print()\n",
    "print(minimum_variance_portfolio)\n",
    "print()\n",
    "\n",
    "print(\"MR\")\n",
    "print(MR(covariance,minimum_variance_portfolio))\n",
    "print(\"RC\")\n",
    "print(RC(covariance,minimum_variance_portfolio))\n",
    "print(\"RRC\")\n",
    "print(RRC(covariance,minimum_variance_portfolio))\n",
    "print(\"Volatility\")\n",
    "print(np.sqrt(minimum_variance_portfolio.T@covariance@minimum_variance_portfolio))"
   ]
  },
  {
   "cell_type": "code",
   "execution_count": 29,
   "id": "b862d99d",
   "metadata": {},
   "outputs": [],
   "source": [
    "def most_diversified_portfolio(covariance):\n",
    "    N = covariance.shape[0]  \n",
    "    \n",
    "    Q = matrix(covariance, tc='d')\n",
    "    R = matrix(np.zeros(N), tc='d')  \n",
    "    \n",
    "    A = matrix(np.sqrt(np.diag(covariance)).reshape(1, -1), tc='d')\n",
    "    B = matrix(1.0, tc='d')\n",
    "    \n",
    "    C = matrix( -np.eye(N), tc='d')  \n",
    "    D = matrix( np.zeros(N), tc='d')\n",
    "\n",
    "    sol = solvers.qp(Q, R, C, D,  A, B)\n",
    "    portfolio = np.array(sol['x'])  \n",
    "\n",
    "    portfolio=portfolio/np.sum(portfolio)\n",
    "\n",
    "    return portfolio"
   ]
  },
  {
   "cell_type": "markdown",
   "id": "f3102078",
   "metadata": {},
   "source": [
    "4d"
   ]
  },
  {
   "cell_type": "code",
   "execution_count": 44,
   "id": "d5c80df4",
   "metadata": {},
   "outputs": [
    {
     "name": "stdout",
     "output_type": "stream",
     "text": [
      "Most Diversified Portfolio:\n",
      "[[0.47995619]\n",
      " [0.20740348]\n",
      " [0.14051526]\n",
      " [0.09571026]\n",
      " [0.05578608]\n",
      " [0.02062873]]\n",
      "\n",
      "MR\n",
      "[[0.08207653]\n",
      " [0.08681408]\n",
      " [0.08740667]\n",
      " [0.1159625 ]\n",
      " [0.16415307]\n",
      " [0.2637902 ]]\n",
      "RC\n",
      "[[0.03939314]\n",
      " [0.01800554]\n",
      " [0.01228197]\n",
      " [0.0110988 ]\n",
      " [0.00915746]\n",
      " [0.00544166]]\n",
      "RRC\n",
      "[[0.41301878]\n",
      " [0.18877974]\n",
      " [0.12877076]\n",
      " [0.11636578]\n",
      " [0.09601169]\n",
      " [0.05705325]]\n",
      "Volatility\n",
      "[[0.09537856]]\n"
     ]
    }
   ],
   "source": [
    "MDP_portfolio = most_diversified_portfolio(covariance).reshape(-1,1)\n",
    "\n",
    "\n",
    "print(\"Most Diversified Portfolio:\")\n",
    "print(MDP_portfolio)\n",
    "print()\n",
    "print(\"MR\")\n",
    "print(MR(covariance,MDP_portfolio))\n",
    "print(\"RC\")\n",
    "print(RC(covariance,MDP_portfolio))\n",
    "print(\"RRC\")\n",
    "print(RRC(covariance,MDP_portfolio))\n",
    "print(\"Volatility\")\n",
    "print(np.sqrt(MDP_portfolio.T@covariance@MDP_portfolio))"
   ]
  },
  {
   "cell_type": "markdown",
   "id": "2ee0a7a6",
   "metadata": {},
   "source": [
    "4e\n",
    "Here i implemented all the main ways to compute the ERC portfolio seen in class, we notice that the solition found by the jacobi method is not long only.\n",
    "\n",
    "From now on we will work with the solution found by the CCD algorithm"
   ]
  },
  {
   "cell_type": "code",
   "execution_count": 31,
   "id": "a904bb99",
   "metadata": {},
   "outputs": [
    {
     "name": "stdout",
     "output_type": "stream",
     "text": [
      "4e\n",
      "ERC PORTFOLIO\n",
      "CCD way ===============================\n",
      "[[0.41305427]\n",
      " [0.19628074]\n",
      " [0.15298504]\n",
      " [0.11230776]\n",
      " [0.07767979]\n",
      " [0.0476924 ]]\n",
      "ERC_Portfolio_CCD  Risk Decomposition CCD\n",
      "MR\n",
      "[[0.04314013]\n",
      " [0.090784  ]\n",
      " [0.11647653]\n",
      " [0.15866389]\n",
      " [0.22939277]\n",
      " [0.37362705]]\n",
      "RC\n",
      "[[0.01781921]\n",
      " [0.01781915]\n",
      " [0.01781917]\n",
      " [0.01781919]\n",
      " [0.01781918]\n",
      " [0.01781917]]\n",
      "RRC\n",
      "[[0.16666701]\n",
      " [0.16666641]\n",
      " [0.16666654]\n",
      " [0.16666674]\n",
      " [0.16666671]\n",
      " [0.1666666 ]]\n",
      "Volatility\n",
      "[[0.10691507]]\n",
      "\n",
      "Jacobi way ===============================\n",
      "\n",
      "\n",
      "[[-0.5987981 ]\n",
      " [ 0.57589117]\n",
      " [ 0.40576745]\n",
      " [ 0.29382255]\n",
      " [ 0.20090442]\n",
      " [ 0.12241251]]\n",
      "ERC_Portfolio_jacobi  Risk Decomposition CCD\n",
      "MR\n",
      "[[-0.09426454]\n",
      " [ 0.09801405]\n",
      " [ 0.13910782]\n",
      " [ 0.19210719]\n",
      " [ 0.28095661]\n",
      " [ 0.46110832]]\n",
      "RC\n",
      "[[0.05644542]\n",
      " [0.05644542]\n",
      " [0.05644542]\n",
      " [0.05644542]\n",
      " [0.05644542]\n",
      " [0.05644543]]\n",
      "RRC\n",
      "[[0.16666667]\n",
      " [0.16666667]\n",
      " [0.16666666]\n",
      " [0.16666666]\n",
      " [0.16666666]\n",
      " [0.16666668]]\n",
      "\n",
      "Newton way=================================\n",
      "\n",
      "[[0.41305405]\n",
      " [0.19628094]\n",
      " [0.15298512]\n",
      " [0.11230771]\n",
      " [0.07767977]\n",
      " [0.04769241]]\n",
      "ERC_Portfolio_Newton  Risk Decomposition \n",
      "MR\n",
      "[[0.04314007]\n",
      " [0.09078406]\n",
      " [0.11647656]\n",
      " [0.15866391]\n",
      " [0.22939281]\n",
      " [0.37362714]]\n",
      "RC\n",
      "[[0.01781918]\n",
      " [0.01781918]\n",
      " [0.01781918]\n",
      " [0.01781918]\n",
      " [0.01781918]\n",
      " [0.01781918]]\n",
      "RRC\n",
      "[[0.16666667]\n",
      " [0.16666667]\n",
      " [0.16666667]\n",
      " [0.16666667]\n",
      " [0.16666667]\n",
      " [0.16666667]]\n"
     ]
    }
   ],
   "source": [
    "print(\"4e\")\n",
    "print(\"ERC PORTFOLIO\")\n",
    "print(\"CCD way ===============================\")\n",
    "def ERC_CCD(covariance,lambdac):\n",
    "    N=covariance.shape[0]\n",
    "    y_prev=np.ones(N).reshape(-1,1)\n",
    "    y_new=np.zeros(N).reshape(-1,1)\n",
    "    a=np.ones(N).reshape(-1,1)/N\n",
    "    b=np.ones(N).reshape(-1,1)/N\n",
    "    gamma=np.zeros(N).reshape(-1,1)\n",
    "    \n",
    "    error=1\n",
    "    while(error>1e-6):\n",
    "        for i in range(N):\n",
    "            a[i]=covariance[i][i]\n",
    "            b[i]=(y_new[:i].T@covariance[i][:i]+y_prev[i+1:].T@covariance[i][i+1:])\n",
    "            gamma[i]=-lambdac\n",
    "            y_new[i]=(-b[i]+np.sqrt(b[i]*b[i]-4*a[i]*gamma[i]))/(2*a[i])\n",
    "        error=np.linalg.norm(RRC(covariance,y_new)-np.ones(N).reshape(-1,1)/N,np.inf)\n",
    "        y_prev=y_new\n",
    "    portfolio=y_new/np.sum(y_new)\n",
    "    return portfolio\n",
    "\n",
    "ERC_Portfolio_CCD=ERC_CCD(covariance,1)\n",
    "print(ERC_Portfolio_CCD)\n",
    "\n",
    "\n",
    "\n",
    "print(\"ERC_Portfolio_CCD  Risk Decomposition CCD\")\n",
    "print(\"MR\")\n",
    "print(MR(covariance,ERC_Portfolio_CCD))\n",
    "print(\"RC\")\n",
    "print(RC(covariance,ERC_Portfolio_CCD))\n",
    "print(\"RRC\")\n",
    "print(RRC(covariance,ERC_Portfolio_CCD))\n",
    "print(\"Volatility\")\n",
    "print(np.sqrt(ERC_Portfolio_CCD.T@covariance@ERC_Portfolio_CCD))\n",
    "\n",
    "print()\n",
    "print(\"Jacobi way ===============================\")\n",
    "print()\n",
    "def Beta(covariance,x):\n",
    "    return (covariance@x)/(x.T@covariance@x)\n",
    "\n",
    "def jacobi_power_rb(covariance, b, tol=1e-8, max_iter=2000):\n",
    "    N = covariance.shape[0]  \n",
    "    x = np.ones((N, 1)) / N  \n",
    "    x_old = np.zeros((N, 1)) \n",
    "    for _ in range(max_iter):        \n",
    "        beta = Beta(covariance,x)         \n",
    "        x_new = (b / beta)       \n",
    "        x_new /= np.sum(x_new)        \n",
    "        x = 0.5 * x + 0.5 * x_new        \n",
    "        if np.linalg.norm(x - x_old,np.inf) < tol:\n",
    "            break\n",
    "\n",
    "        x_old = x\n",
    "\n",
    "    return x  \n",
    "print()\n",
    "ERC_Portfolio_jacobi=jacobi_power_rb(covariance,np.ones(N).reshape(-1,1)/N)\n",
    "print(ERC_Portfolio_jacobi)\n",
    "\n",
    "\n",
    "print(\"ERC_Portfolio_jacobi  Risk Decomposition CCD\")\n",
    "print(\"MR\")\n",
    "print(MR(covariance,ERC_Portfolio_jacobi))\n",
    "print(\"RC\")\n",
    "print(RC(covariance,ERC_Portfolio_jacobi))\n",
    "print(\"RRC\")\n",
    "print(RRC(covariance,ERC_Portfolio_jacobi))\n",
    "\n",
    "print()\n",
    "print(\"Newton way=================================\")\n",
    "print()\n",
    "def Newton_Method(covariance,lambdac):\n",
    "    inv_cov=np.linalg.inv(covariance)\n",
    "    y0=np.diag(inv_cov)/np.sum(inv_cov)    \n",
    "    err=1\n",
    "    y_prev=y0\n",
    "    while(err>1e-12):\n",
    "        Gradient=(covariance@y_prev)-lambdac*(1/y_prev)\n",
    "        Hessian=covariance+(lambdac*np.diag(1/(y_prev*y_prev)))\n",
    "        delta=np.linalg.inv(Hessian)@Gradient\n",
    "        y_new=y_prev-delta\n",
    "        err=np.linalg.norm(y_new-y_prev,np.inf)\n",
    "        y_prev=y_new\n",
    "    portfolio=y_new/np.sum(y_new)\n",
    "    return portfolio\n",
    "\n",
    "ERC_Portfolio_Newton=Newton_Method(covariance,np.mean(np.sqrt(np.diag(covariance)))).reshape(-1,1)\n",
    "print(ERC_Portfolio_Newton)\n",
    "\n",
    "\n",
    "print(\"ERC_Portfolio_Newton  Risk Decomposition \")\n",
    "print(\"MR\")\n",
    "print(MR(covariance,ERC_Portfolio_Newton))\n",
    "print(\"RC\")\n",
    "print(RC(covariance,ERC_Portfolio_Newton))\n",
    "print(\"RRC\")\n",
    "print(RRC(covariance,ERC_Portfolio_Newton))\n"
   ]
  },
  {
   "cell_type": "code",
   "execution_count": 32,
   "id": "1946a7da",
   "metadata": {},
   "outputs": [
    {
     "data": {
      "image/png": "[encoded data removed]",
      "text/plain": [
       "<Figure size 900x500 with 1 Axes>"
      ]
     },
     "metadata": {},
     "output_type": "display_data"
    }
   ],
   "source": [
    "sns.set_theme(style=\"whitegrid\") \n",
    "plt.figure(figsize=(9, 5))\n",
    "plt.plot(gamma_volatilities_LongOnly, gamma_returns_LongOnly, color='royalblue', linewidth=2, label=\"Efficient Frontier\", linestyle='-')\n",
    "plt.title(\"Efficient Frontier LongOnly\", fontsize=15, fontweight='bold')\n",
    "plt.xlabel(\"Volatility (Sigma)\", fontsize=12)\n",
    "plt.ylabel(\"Expected Return (Mu)\", fontsize=12)\n",
    "\n",
    "plt.scatter(portfolio_vol(tangency_portfolio_Long_Only,covariance), portfolio_mean(tangency_portfolio_Long_Only,mus), color='red', s=60, zorder=3, label=\"Tangency Portfolio \")\n",
    "plt.scatter(portfolio_vol(EW_Portfolio,covariance), portfolio_mean(EW_Portfolio,mus), color='black', s=60, zorder=3, label=\"EW Portfolio \")\n",
    "plt.scatter(portfolio_vol(minimum_variance_portfolio,covariance), portfolio_mean(minimum_variance_portfolio,mus), color='pink', s=60, zorder=3, label=\"MV Portfolio \")\n",
    "plt.scatter(portfolio_vol(MDP_portfolio,covariance), portfolio_mean(MDP_portfolio,mus), color='brown', s=60, zorder=3, label=\"MDP Portfolio \")\n",
    "plt.scatter(portfolio_vol(ERC_Portfolio_CCD,covariance), portfolio_mean(ERC_Portfolio_CCD,mus), color='yellow', s=60, zorder=3, label=\"ERC Portfolio \")\n",
    "\n",
    "\n",
    "plt.title(\"Portfolio comparison \", fontsize=15, fontweight='bold')\n",
    "plt.xlabel(\"Volatility\", fontsize=12)\n",
    "plt.ylabel(\"Expected Return\", fontsize=12)\n",
    "\n",
    "plt.legend(fontsize=12)\n",
    "\n",
    "\n",
    "plt.show()\n",
    "\n"
   ]
  },
  {
   "cell_type": "markdown",
   "id": "199de7dd",
   "metadata": {},
   "source": [
    "4f"
   ]
  },
  {
   "cell_type": "code",
   "execution_count": 33,
   "id": "554e4d4a",
   "metadata": {},
   "outputs": [],
   "source": [
    "def beta_compute(p1,p2,covariance):\n",
    "    return (p1.T@covariance@p2)/(p2.T@covariance@p2)"
   ]
  },
  {
   "cell_type": "code",
   "execution_count": 34,
   "id": "9e070340",
   "metadata": {
    "scrolled": true
   },
   "outputs": [
    {
     "name": "stdout",
     "output_type": "stream",
     "text": [
      "==================================================\n",
      " Beta Values with Benchmark: Long-Only Tangency Portfolio (MSR) \n",
      "==================================================\n",
      " MSR | Beta: 1.0\n",
      " EW | Beta: 0.617988700855291\n",
      " MV | Beta: 0.12081048617288716\n",
      " MDP | Beta: 0.1643907907426409\n",
      " ERC | Beta: 0.25642240465311017\n",
      "\n",
      "==================================================\n",
      " Beta Values with Benchmark: Equal-Weighted Portfolio (EW) \n",
      "==================================================\n",
      " MSR | Beta: 1.5659014402897846\n",
      " EW | Beta: 1.0\n",
      " MV | Beta: 0.2580625523587985\n",
      " MDP | Beta: 0.3262097936858171\n",
      " ERC | Beta: 0.46248926403463503\n",
      "\n",
      "==================================================\n"
     ]
    }
   ],
   "source": [
    "betas_tangency = {\n",
    "    \"MSR\": beta_compute(tangency_portfolio_Long_Only, tangency_portfolio_Long_Only,covariance).squeeze(),\n",
    "    \"EW\": beta_compute(EW_Portfolio, tangency_portfolio_Long_Only,covariance).squeeze(),\n",
    "    \"MV\": beta_compute(minimum_variance_portfolio, tangency_portfolio_Long_Only,covariance).squeeze(),\n",
    "    \"MDP\": beta_compute(MDP_portfolio, tangency_portfolio_Long_Only,covariance).squeeze(),\n",
    "    \"ERC\": beta_compute(ERC_Portfolio_CCD, tangency_portfolio_Long_Only,covariance).squeeze()\n",
    "}\n",
    "\n",
    "betas_EW = {\n",
    "    \"MSR\": beta_compute(tangency_portfolio_Long_Only, EW_Portfolio,covariance).squeeze(),\n",
    "    \"EW\": beta_compute(EW_Portfolio, EW_Portfolio,covariance).squeeze(),\n",
    "    \"MV\": beta_compute(minimum_variance_portfolio, EW_Portfolio,covariance).squeeze(),\n",
    "    \"MDP\": beta_compute(MDP_portfolio, EW_Portfolio,covariance).squeeze(),\n",
    "    \"ERC\": beta_compute(ERC_Portfolio_CCD, EW_Portfolio,covariance).squeeze()\n",
    "}\n",
    "\n",
    "print(\"=\" * 50)\n",
    "print(\" Beta Values with Benchmark: Long-Only Tangency Portfolio (MSR) \")\n",
    "print(\"=\" * 50)\n",
    "for portfolio, beta in betas_tangency.items():\n",
    "    print(f\" {portfolio} | Beta: {beta}\")\n",
    "\n",
    "print(\"\\n\" + \"=\" * 50)\n",
    "print(\" Beta Values with Benchmark: Equal-Weighted Portfolio (EW) \")\n",
    "print(\"=\" * 50)\n",
    "for portfolio, beta in betas_EW.items():\n",
    "    print(f\" {portfolio} | Beta: {beta}\")\n",
    "\n",
    "print(\"\\n\" + \"=\" * 50)"
   ]
  }
 ],
 "metadata": {
  "kernelspec": {
   "display_name": "Python 3 (ipykernel)",
   "language": "python",
   "name": "python3"
  },
  "language_info": {
   "codemirror_mode": {
    "name": "ipython",
    "version": 3
   },
   "file_extension": ".py",
   "mimetype": "text/x-python",
   "name": "python",
   "nbconvert_exporter": "python",
   "pygments_lexer": "ipython3",
   "version": "3.11.5"
  }
 },
 "nbformat": 4,
 "nbformat_minor": 5
}
